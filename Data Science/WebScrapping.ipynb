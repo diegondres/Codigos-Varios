{
  "nbformat": 4,
  "nbformat_minor": 0,
  "metadata": {
    "colab": {
      "name": "Tarea1.ipynb",
      "provenance": [],
      "collapsed_sections": []
    },
    "kernelspec": {
      "name": "python3",
      "display_name": "Python 3"
    }
  },
  "cells": [
    {
      "cell_type": "code",
      "metadata": {
        "id": "QABm4xTHI6vS",
        "colab": {
          "base_uri": "https://localhost:8080/",
          "height": 183
        },
        "outputId": "783035d0-2d38-4c5e-f880-ce930f8c76e5"
      },
      "source": [
        "import pandas as pd\n",
        "juegos = [nombre, fecha, precioOriginal,precioOferta,reviewUsuarios,plataforma1,plataforma2,plataforma3,etiqueta]\n",
        "#se asignan los nombres de las columnas, 'Código' es la etiqueta, se coloca el nombre por conveniencia\n",
        "headers = [\"Nombre\", \"Fecha_Lanzamiento\", \"Precio_Original\", \"Precio_Oferta\", \"Review Usuarios\", \"Plataforma1\",\"Plataforma2\",\"Plataforma3\",\"Código\"] \n",
        "headers"
      ],
      "execution_count": null,
      "outputs": [
        {
          "output_type": "execute_result",
          "data": {
            "text/plain": [
              "['Nombre',\n",
              " 'Fecha_Lanzamiento',\n",
              " 'Precio_Original',\n",
              " 'Precio_Oferta',\n",
              " 'Review Usuarios',\n",
              " 'Plataforma1',\n",
              " 'Plataforma2',\n",
              " 'Plataforma3',\n",
              " 'Código']"
            ]
          },
          "metadata": {
            "tags": []
          },
          "execution_count": 6
        }
      ]
    },
    {
      "cell_type": "code",
      "metadata": {
        "id": "loiRx439K1sp",
        "colab": {
          "base_uri": "https://localhost:8080/",
          "height": 1000
        },
        "outputId": "251eca82-b0ec-433e-9229-d3863c695ad3"
      },
      "source": [
        "import requests \n",
        "import bs4     #import beautiful soup \n",
        "\n",
        "url = \"https://store.steampowered.com/search/?specials=1\"\n",
        "res = requests.get(url)\n",
        "soup = bs4.BeautifulSoup(res.text, 'lxml') #se formatea el texto para poder trabajarlo\n",
        "#se declaran listas vacias que almacenaran la información.\n",
        "nombre = []\n",
        "isdolar = 1\n",
        "fecha = []\n",
        "precioOriginal = []\n",
        "precioOferta = []\n",
        "reviewUsuarios = []\n",
        "#hay 3 plataformas posibles, por lo tanto se necesita una lista para cada plataforma\n",
        "plataforma1 = []\n",
        "plataforma2 = []\n",
        "plataforma3 = []\n",
        "etiqueta = []\n",
        "for var in soup.find_all('a', attrs={'class': 'search_result_row ds_collapse_flag '}): #se recorren todos los resultados\n",
        "  nombre.append(var.span.text)  #el nombre del juego se obtiene en el texto del primer span\n",
        "  fecha.append(var.find('div', attrs={'class': 'search_released'}).text) #la fecha se obtiene del div que se encuentra rapidamente\n",
        "  temp = var.find('div', attrs={'class': 'search_price'}).text\n",
        "  if(temp.find('NT')>0):\n",
        "    temp = temp.replace(\" \",\"\").replace(\",\",\".\").split(\"$\")[1:3]\n",
        "    isdolar = 0 \n",
        "  else:\n",
        "    temp= temp.replace(\" \",\"\").split(\"$\")[1:3] #para los precios se encuentra su div, pero es necesario procesar la info\n",
        "                                                                                              #para obtener ambos precios\n",
        "  if len(temp)>0:\n",
        "    if isdolar == 0:\n",
        "      precioOriginal.append(round(float(temp[0]) * 27.11,2) ) #los valores se obtienen como str por lo que se transforman a float y redondean\n",
        "      precioOferta.append(round(float(temp[1]) * 27.11,2) ) #como los valores se obtienen en dolares taiwaneses, se transforman a pesos\n",
        "    else:\n",
        "      precioOriginal.append(round(float(temp[0]) * 778,2) ) #los valores se obtienen como str por lo que se transforman a float y redondean\n",
        "      precioOferta.append(round(float(temp[1]) * 778,2) ) #como los valores se obtienen en dolares, se transforman a pesos\n",
        "  else: \n",
        "    precioOriginal.append(float(\"NAN\"))   #de no indicar un precio no lo hará para ambos, y se asigna un valor nulo.\n",
        "    precioOferta.append(float(\"NAN\"))\n",
        "  if var.find('span', attrs={'class': 'search_review_summary'}) is not None:  #es necesario verificar si tiene info de reviews \n",
        "    reviewUsuarios.append(var.find('span', attrs={'class': 'search_review_summary'})[\"data-tooltip-html\"].split(\"<br>\")[0]) #Es necesario buscar un valor dentro del span\n",
        "  else:\n",
        "    reviewUsuarios.append(float(\"NAN\"))\n",
        "\n",
        "#Se pueden tener 3 plataformas, por lo que es necesario ver para cuantas plataformas esta disponible\n",
        "  if len(var.select('.platform_img') )>=1: #primero se ve si al menos se tiene 1 plataforma, de ser asi se agrega, sino se ponen todas en blanco.\n",
        "    plataforma1.append(var.select('.platform_img')[0][\"class\"][1]) #plataforma 1\n",
        "    if len(var.select('.platform_img') )>=2: #se checkea si es que se tienen 2 plataformas, de ser asi se agrega la segunda y lo mismo con la tercera.\n",
        "      plataforma2.append(var.select('.platform_img')[1][\"class\"][1]) #plataforma 2\n",
        "      if len(var.select('.platform_img') )>=3:\n",
        "        plataforma3.append(var.select('.platform_img')[2][\"class\"][1]) #plataforma 3\n",
        "      else:                                   #en caso que en alguno de estos casos no se cumpla la cantidad de plataformas que se está preguntado\n",
        "        plataforma3.append(float(\"NAN\"))      #se asignan en blanco la cantidad de variables que corresponda.\n",
        "    else:\n",
        "      plataforma2.append(float(\"NAN\"))\n",
        "      plataforma3.append(float(\"NAN\"))  \n",
        "  else:\n",
        "    plataforma1.append(float(\"NAN\"))\n",
        "    plataforma2.append(float(\"NAN\"))\n",
        "    plataforma3.append(float(\"NAN\"))\n",
        "  etiqueta.append(int(var[\"data-ds-tagids\"].replace(\"[\",\"\").replace(\"]\",\"\").split(\",\")[0])) #la etiqueta se obtiene de un valor dentro de la etiqueta <a>\n",
        "                                                #se obtiene la primer etiqueta, procesando el texto\n",
        "\n",
        "print(nombre)\n",
        "print(fecha)\n",
        "print(precioOriginal)\n",
        "print(precioOferta)\n",
        "print(reviewUsuarios)\n",
        "print(plataforma1)\n",
        "print(plataforma2)\n",
        "print(plataforma3)\n",
        "print(etiqueta)\n"
      ],
      "execution_count": null,
      "outputs": [
        {
          "output_type": "stream",
          "text": [
            "-1\n",
            "-1\n",
            "-1\n",
            "-1\n",
            "-1\n",
            "-1\n",
            "-1\n",
            "-1\n",
            "-1\n",
            "-1\n",
            "-1\n",
            "-1\n",
            "-1\n",
            "-1\n",
            "-1\n",
            "-1\n",
            "-1\n",
            "-1\n",
            "-1\n",
            "-1\n",
            "-1\n",
            "-1\n",
            "-1\n",
            "-1\n",
            "-1\n",
            "-1\n",
            "-1\n",
            "-1\n",
            "-1\n",
            "-1\n",
            "-1\n",
            "-1\n",
            "-1\n",
            "-1\n",
            "-1\n",
            "-1\n",
            "-1\n",
            "-1\n",
            "-1\n",
            "-1\n",
            "-1\n",
            "-1\n",
            "-1\n",
            "-1\n",
            "-1\n",
            "-1\n",
            "-1\n",
            "-1\n",
            "-1\n",
            "-1\n",
            "['The Outer Worlds', 'Fallout 4: Game of the Year Edition', 'The Outer Worlds: Non-Mandatory Corporate-Sponsored Bundle', 'Far Cry® 5', 'Fallout 76', 'Fallout 4', 'Grand Theft Auto V', 'DayZ', 'Dragon Age™ Inquisition', 'GTFO', 'Arma 3', 'Ghostrunner', \"Don't Starve Together\", 'DayZ Livonia Edition', 'Fallout: New Vegas', 'American Truck Simulator', 'Warhammer: Vermintide 2', 'Destiny 2: Upgrade Edition', 'Monster Prom 2: Monster Camp', 'Inquisition - Andromeda Bundle', 'Madden NFL 21', 'Mass Effect™: Andromeda Deluxe Edition', 'OCTOPATH TRAVELER™', 'Hunt: Showdown', 'Kingdom Come: Deliverance', 'Solasta: Crown of the Magister', 'Kingdom Come: Deliverance Royal Edition', 'Far Cry® New Dawn', 'Far Cry® 4', 'Arma 3 Ultimate Edition', 'Space Engineers', 'Iratus: Lord of the Dead', 'Far Cry Bundle', 'WRC 8 FIA World Rally Championship', 'Pumpkin Jack', 'Far Cry® Primal', 'Euro Truck Simulator 2', 'Killing Floor 2', 'Monster Prom: Franchise Bundle', \"Don't Starve\", 'Shadow of the Tomb Raider: Definitive Edition', 'Kerbal Space Program', 'Volcanoids', 'Pacific Northwest', 'Hotline Miami 2: Wrong Number', \"Don't Starve MEGA PACK 2020\", 'Shadow of the Tomb Raider: Definitive Edition', 'Grand Theft Auto V: Premium Online Edition', 'Warhammer: Vermintide 2 - Content Bundle', 'IL-2 Sturmovik: Battle of Stalingrad']\n",
            "['Oct 23, 2020', 'Nov 10, 2015', '', 'Mar 26, 2018', 'Apr 14, 2020', 'Nov 10, 2015', 'Apr 13, 2015', 'Dec 13, 2018', 'Jun 4, 2020', 'Dec 9, 2019', 'Sep 12, 2013', 'Oct 27, 2020', 'Apr 21, 2016', '', 'Oct 19, 2010', 'Feb 2, 2016', 'Mar 8, 2018', 'Dec 10, 2019', 'Oct 23, 2020', '', 'Aug 28, 2020', 'Jun 11, 2020', 'Jun 7, 2019', 'Aug 27, 2019', 'Feb 13, 2018', 'Oct 20, 2020', 'May 28, 2019', 'Feb 15, 2019', 'Nov 2014', '', 'Feb 28, 2019', 'Apr 23, 2020', '', 'Sep 8, 2020', 'Oct 23, 2020', 'Mar 1, 2016', 'Oct 12, 2012', 'Nov 18, 2016', '', '', 'Sep 14, 2018', 'Apr 27, 2015', 'Jan 29, 2019', '', 'Mar 10, 2015', '', '', '', '', 'Oct 22, 2014']\n",
            "[46672.22, 46672.22, 73108.66, 46672.22, 31112.22, 23332.22, 23332.22, 35002.22, 31112.22, 27222.22, 23332.22, 23332.22, 11662.22, 45886.44, 7772.22, 15552.22, 23332.22, 38892.22, 9328.22, 54444.44, 46672.22, 23332.22, 46672.22, 31112.22, 23332.22, 27222.22, 31112.22, 31112.22, 23332.22, 109620.2, 15552.22, 23332.22, 89423.32, 31112.22, 23332.22, 23332.22, 15552.22, 23332.22, 23316.66, 7772.22, nan, 31112.22, 15552.22, 48967.32, 11662.22, 38853.32, 85548.88, 31104.44, 64527.32, 38892.22]\n",
            "[23332.22, 13996.22, 44789.46, 9328.22, 12440.22, 6994.22, 11662.22, 20998.22, 7772.22, 21776.22, 5827.22, 18664.22, 3960.02, 26732.08, 2326.22, 3882.22, 5827.22, 25277.22, 8394.62, 13148.2, 30334.22, 7694.42, 23332.22, 17108.22, 11662.22, 23137.72, 18664.22, 7772.22, 6994.22, 35966.94, 10884.22, 13996.22, 23059.92, 12448.0, 18664.22, 5827.22, 3882.22, 7694.42, 14548.6, 1937.22, nan, 7772.22, 11662.22, 16236.86, 2326.22, 12595.82, 15233.24, 12432.44, 27486.74, 5827.22]\n",
            "['Very Positive', 'Mostly Positive', 'Very Positive', 'Mostly Positive', 'Mostly Positive', 'Mostly Positive', 'Very Positive', 'Mixed', 'Mostly Positive', 'Very Positive', 'Very Positive', nan, 'Overwhelmingly Positive', 'Mixed', 'Overwhelmingly Positive', 'Overwhelmingly Positive', 'Mostly Positive', 'Mixed', 'Overwhelmingly Positive', 'Mostly Positive', 'Mixed', 'Mostly Positive', 'Very Positive', 'Very Positive', 'Mostly Positive', 'Very Positive', 'Mostly Positive', 'Mostly Positive', 'Very Positive', 'Very Positive', 'Very Positive', 'Very Positive', 'Very Positive', 'Mostly Positive', 'Very Positive', 'Very Positive', 'Overwhelmingly Positive', 'Very Positive', 'Very Positive', 'Overwhelmingly Positive', 'Very Positive', 'Very Positive', 'Very Positive', 'Overwhelmingly Positive', 'Very Positive', 'Overwhelmingly Positive', 'Very Positive', 'Very Positive', 'Mostly Positive', 'Mostly Positive']\n",
            "['win', 'win', 'win', 'win', 'win', 'win', 'win', 'win', 'win', 'win', 'win', 'win', 'win', 'win', 'win', 'win', 'win', 'win', 'win', 'win', 'win', 'win', 'win', 'win', 'win', 'win', 'win', 'win', 'win', 'win', 'win', 'win', 'win', 'win', 'win', 'win', 'win', 'win', 'win', 'win', 'win', 'win', 'win', 'win', 'win', 'win', 'win', 'win', 'win', 'win']\n",
            "[nan, nan, 'music', nan, nan, nan, nan, nan, nan, nan, nan, nan, 'mac', nan, nan, 'mac', nan, nan, 'mac', nan, nan, nan, nan, nan, nan, nan, nan, nan, nan, nan, nan, 'mac', nan, nan, nan, nan, 'mac', nan, 'mac', 'mac', 'mac', 'mac', 'linux', 'mac', 'mac', 'mac', 'mac', nan, nan, nan]\n",
            "[nan, nan, nan, nan, nan, nan, nan, nan, nan, nan, nan, nan, 'linux', nan, nan, 'linux', nan, nan, 'linux', nan, nan, nan, nan, nan, nan, nan, nan, nan, nan, nan, nan, 'linux', nan, nan, nan, nan, 'linux', nan, 'linux', 'linux', 'linux', 'linux', nan, 'linux', 'linux', 'linux', 'linux', nan, nan, nan]\n",
            "[4231, 122, 122, 1695, 122, 1695, 1695, 1662, 122, 493, 19, 19, 1662, 19, 1695, 1100687, 1685, 21, 492, 19, 7226, 4747, 122, 3859, 4172, 14153, 122, 1695, 1695, 599, 1755, 122, 1695, 599, 21, 1695, 599, 1659, 492, 1662, 21, 1755, 493, 599, 1756, 21, 21, 19, 4345, 599]\n"
          ],
          "name": "stdout"
        }
      ]
    },
    {
      "cell_type": "code",
      "metadata": {
        "id": "tXqUmX5xCht9",
        "colab": {
          "base_uri": "https://localhost:8080/",
          "height": 363
        },
        "outputId": "6b27d3d0-e5de-46a0-c6f8-fa3c37b6f927"
      },
      "source": [
        "new_table = pd.DataFrame()\n",
        "for i in range(len(headers)):\n",
        "    new_table[headers[i]] = juegos[i]\n",
        "new_table.head(10)"
      ],
      "execution_count": null,
      "outputs": [
        {
          "output_type": "execute_result",
          "data": {
            "text/html": [
              "<div>\n",
              "<style scoped>\n",
              "    .dataframe tbody tr th:only-of-type {\n",
              "        vertical-align: middle;\n",
              "    }\n",
              "\n",
              "    .dataframe tbody tr th {\n",
              "        vertical-align: top;\n",
              "    }\n",
              "\n",
              "    .dataframe thead th {\n",
              "        text-align: right;\n",
              "    }\n",
              "</style>\n",
              "<table border=\"1\" class=\"dataframe\">\n",
              "  <thead>\n",
              "    <tr style=\"text-align: right;\">\n",
              "      <th></th>\n",
              "      <th>Nombre</th>\n",
              "      <th>Fecha_Lanzamiento</th>\n",
              "      <th>Precio_Original</th>\n",
              "      <th>Precio_Oferta</th>\n",
              "      <th>Review Usuarios</th>\n",
              "      <th>Plataforma1</th>\n",
              "      <th>Plataforma2</th>\n",
              "      <th>Plataforma3</th>\n",
              "      <th>Código</th>\n",
              "    </tr>\n",
              "  </thead>\n",
              "  <tbody>\n",
              "    <tr>\n",
              "      <th>0</th>\n",
              "      <td>The Outer Worlds</td>\n",
              "      <td>Oct 23, 2020</td>\n",
              "      <td>46672.22</td>\n",
              "      <td>23332.22</td>\n",
              "      <td>Very Positive</td>\n",
              "      <td>win</td>\n",
              "      <td>NaN</td>\n",
              "      <td>NaN</td>\n",
              "      <td>4231</td>\n",
              "    </tr>\n",
              "    <tr>\n",
              "      <th>1</th>\n",
              "      <td>Fallout 4: Game of the Year Edition</td>\n",
              "      <td>Nov 10, 2015</td>\n",
              "      <td>46672.22</td>\n",
              "      <td>13996.22</td>\n",
              "      <td>Mostly Positive</td>\n",
              "      <td>win</td>\n",
              "      <td>NaN</td>\n",
              "      <td>NaN</td>\n",
              "      <td>122</td>\n",
              "    </tr>\n",
              "    <tr>\n",
              "      <th>2</th>\n",
              "      <td>The Outer Worlds: Non-Mandatory Corporate-Spon...</td>\n",
              "      <td></td>\n",
              "      <td>73108.66</td>\n",
              "      <td>44789.46</td>\n",
              "      <td>Very Positive</td>\n",
              "      <td>win</td>\n",
              "      <td>music</td>\n",
              "      <td>NaN</td>\n",
              "      <td>122</td>\n",
              "    </tr>\n",
              "    <tr>\n",
              "      <th>3</th>\n",
              "      <td>Far Cry® 5</td>\n",
              "      <td>Mar 26, 2018</td>\n",
              "      <td>46672.22</td>\n",
              "      <td>9328.22</td>\n",
              "      <td>Mostly Positive</td>\n",
              "      <td>win</td>\n",
              "      <td>NaN</td>\n",
              "      <td>NaN</td>\n",
              "      <td>1695</td>\n",
              "    </tr>\n",
              "    <tr>\n",
              "      <th>4</th>\n",
              "      <td>Fallout 76</td>\n",
              "      <td>Apr 14, 2020</td>\n",
              "      <td>31112.22</td>\n",
              "      <td>12440.22</td>\n",
              "      <td>Mostly Positive</td>\n",
              "      <td>win</td>\n",
              "      <td>NaN</td>\n",
              "      <td>NaN</td>\n",
              "      <td>122</td>\n",
              "    </tr>\n",
              "    <tr>\n",
              "      <th>5</th>\n",
              "      <td>Fallout 4</td>\n",
              "      <td>Nov 10, 2015</td>\n",
              "      <td>23332.22</td>\n",
              "      <td>6994.22</td>\n",
              "      <td>Mostly Positive</td>\n",
              "      <td>win</td>\n",
              "      <td>NaN</td>\n",
              "      <td>NaN</td>\n",
              "      <td>1695</td>\n",
              "    </tr>\n",
              "    <tr>\n",
              "      <th>6</th>\n",
              "      <td>Grand Theft Auto V</td>\n",
              "      <td>Apr 13, 2015</td>\n",
              "      <td>23332.22</td>\n",
              "      <td>11662.22</td>\n",
              "      <td>Very Positive</td>\n",
              "      <td>win</td>\n",
              "      <td>NaN</td>\n",
              "      <td>NaN</td>\n",
              "      <td>1695</td>\n",
              "    </tr>\n",
              "    <tr>\n",
              "      <th>7</th>\n",
              "      <td>DayZ</td>\n",
              "      <td>Dec 13, 2018</td>\n",
              "      <td>35002.22</td>\n",
              "      <td>20998.22</td>\n",
              "      <td>Mixed</td>\n",
              "      <td>win</td>\n",
              "      <td>NaN</td>\n",
              "      <td>NaN</td>\n",
              "      <td>1662</td>\n",
              "    </tr>\n",
              "    <tr>\n",
              "      <th>8</th>\n",
              "      <td>Dragon Age™ Inquisition</td>\n",
              "      <td>Jun 4, 2020</td>\n",
              "      <td>31112.22</td>\n",
              "      <td>7772.22</td>\n",
              "      <td>Mostly Positive</td>\n",
              "      <td>win</td>\n",
              "      <td>NaN</td>\n",
              "      <td>NaN</td>\n",
              "      <td>122</td>\n",
              "    </tr>\n",
              "    <tr>\n",
              "      <th>9</th>\n",
              "      <td>GTFO</td>\n",
              "      <td>Dec 9, 2019</td>\n",
              "      <td>27222.22</td>\n",
              "      <td>21776.22</td>\n",
              "      <td>Very Positive</td>\n",
              "      <td>win</td>\n",
              "      <td>NaN</td>\n",
              "      <td>NaN</td>\n",
              "      <td>493</td>\n",
              "    </tr>\n",
              "  </tbody>\n",
              "</table>\n",
              "</div>"
            ],
            "text/plain": [
              "                                              Nombre  ... Código\n",
              "0                                   The Outer Worlds  ...   4231\n",
              "1                Fallout 4: Game of the Year Edition  ...    122\n",
              "2  The Outer Worlds: Non-Mandatory Corporate-Spon...  ...    122\n",
              "3                                         Far Cry® 5  ...   1695\n",
              "4                                         Fallout 76  ...    122\n",
              "5                                          Fallout 4  ...   1695\n",
              "6                                 Grand Theft Auto V  ...   1695\n",
              "7                                               DayZ  ...   1662\n",
              "8                            Dragon Age™ Inquisition  ...    122\n",
              "9                                               GTFO  ...    493\n",
              "\n",
              "[10 rows x 9 columns]"
            ]
          },
          "metadata": {
            "tags": []
          },
          "execution_count": 8
        }
      ]
    },
    {
      "cell_type": "markdown",
      "metadata": {
        "id": "ulcjTb1-TLcW"
      },
      "source": [
        "---\n",
        "## Pregunta 1\n",
        "\n",
        "Entregue los nombres de los 10 juegos con precio de oferta más baratos\n",
        "\n",
        "Ejemplo:\n",
        "\n",
        "| Nombre del juego | Precio en oferta |\n",
        "|:----------------:|:----------------:|\n",
        "|  Nombre 1 | \\$ |\n",
        "| ... | ... |\n",
        "| Nombre 10 | \\$\\$\\$ |"
      ]
    },
    {
      "cell_type": "code",
      "metadata": {
        "id": "PEz3EMmgJH9E",
        "colab": {
          "base_uri": "https://localhost:8080/",
          "height": 363
        },
        "outputId": "fd6cf682-ab03-4212-8fe7-8885a42434d7"
      },
      "source": [
        "#Para encontrar los 10 juegos mas baratos basta con ordenar la tabla de acuerdo al precio de oferta, que por defecto se hace de menor a mayor,\n",
        "#despues se seleccionan solo las columnas que nos interesan.\n",
        "p1 = new_table.sort_values(by=['Precio_Oferta'])[[\"Nombre\",\"Precio_Oferta\"]]\n",
        "p1.head(10)"
      ],
      "execution_count": null,
      "outputs": [
        {
          "output_type": "execute_result",
          "data": {
            "text/html": [
              "<div>\n",
              "<style scoped>\n",
              "    .dataframe tbody tr th:only-of-type {\n",
              "        vertical-align: middle;\n",
              "    }\n",
              "\n",
              "    .dataframe tbody tr th {\n",
              "        vertical-align: top;\n",
              "    }\n",
              "\n",
              "    .dataframe thead th {\n",
              "        text-align: right;\n",
              "    }\n",
              "</style>\n",
              "<table border=\"1\" class=\"dataframe\">\n",
              "  <thead>\n",
              "    <tr style=\"text-align: right;\">\n",
              "      <th></th>\n",
              "      <th>Nombre</th>\n",
              "      <th>Precio_Oferta</th>\n",
              "    </tr>\n",
              "  </thead>\n",
              "  <tbody>\n",
              "    <tr>\n",
              "      <th>36</th>\n",
              "      <td>Don't Starve</td>\n",
              "      <td>1937.22</td>\n",
              "    </tr>\n",
              "    <tr>\n",
              "      <th>38</th>\n",
              "      <td>Hotline Miami 2: Wrong Number</td>\n",
              "      <td>2326.22</td>\n",
              "    </tr>\n",
              "    <tr>\n",
              "      <th>14</th>\n",
              "      <td>Fallout: New Vegas</td>\n",
              "      <td>2326.22</td>\n",
              "    </tr>\n",
              "    <tr>\n",
              "      <th>49</th>\n",
              "      <td>Monster Prom</td>\n",
              "      <td>2894.16</td>\n",
              "    </tr>\n",
              "    <tr>\n",
              "      <th>37</th>\n",
              "      <td>Euro Truck Simulator 2</td>\n",
              "      <td>3882.22</td>\n",
              "    </tr>\n",
              "    <tr>\n",
              "      <th>15</th>\n",
              "      <td>American Truck Simulator</td>\n",
              "      <td>3882.22</td>\n",
              "    </tr>\n",
              "    <tr>\n",
              "      <th>12</th>\n",
              "      <td>Don't Starve Together</td>\n",
              "      <td>3960.02</td>\n",
              "    </tr>\n",
              "    <tr>\n",
              "      <th>40</th>\n",
              "      <td>Far Cry® Primal</td>\n",
              "      <td>5827.22</td>\n",
              "    </tr>\n",
              "    <tr>\n",
              "      <th>10</th>\n",
              "      <td>Arma 3</td>\n",
              "      <td>5827.22</td>\n",
              "    </tr>\n",
              "    <tr>\n",
              "      <th>16</th>\n",
              "      <td>Warhammer: Vermintide 2</td>\n",
              "      <td>5827.22</td>\n",
              "    </tr>\n",
              "  </tbody>\n",
              "</table>\n",
              "</div>"
            ],
            "text/plain": [
              "                           Nombre  Precio_Oferta\n",
              "36                   Don't Starve        1937.22\n",
              "38  Hotline Miami 2: Wrong Number        2326.22\n",
              "14             Fallout: New Vegas        2326.22\n",
              "49                   Monster Prom        2894.16\n",
              "37         Euro Truck Simulator 2        3882.22\n",
              "15       American Truck Simulator        3882.22\n",
              "12          Don't Starve Together        3960.02\n",
              "40                Far Cry® Primal        5827.22\n",
              "10                         Arma 3        5827.22\n",
              "16        Warhammer: Vermintide 2        5827.22"
            ]
          },
          "metadata": {
            "tags": []
          },
          "execution_count": 9
        }
      ]
    },
    {
      "cell_type": "markdown",
      "metadata": {
        "id": "m5SoOYCGBBxi"
      },
      "source": [
        "El juego más barato es \"Don´t starve together\"."
      ]
    },
    {
      "cell_type": "markdown",
      "metadata": {
        "id": "0IKabP1_J_-L"
      },
      "source": [
        "---\n",
        "## Pregunta 2\n",
        "\n",
        "Entregue los juegos que se puedan jugar en Windows, Linux y Mac"
      ]
    },
    {
      "cell_type": "code",
      "metadata": {
        "id": "CoLC44xKKA8Q",
        "colab": {
          "base_uri": "https://localhost:8080/",
          "height": 489
        },
        "outputId": "186e00da-3cad-4cd7-c09a-17d77c63f6e6"
      },
      "source": [
        "#Para juegos que esten para las 3 plataformas se tiene que consultar que cumplan que p1 sea windows puesto que siempre estaran en windows, \n",
        "#para la segunda plataforma puede que sea linux o mac, por lo que tiene que revisar por cualquiera de los dos, pero para la tercera por orden \n",
        "#solo puede ser linux, por tanto solo se consulta por esa opción.\n",
        "p2 = new_table[(new_table.Plataforma1==\"win\") & ( (new_table.Plataforma2==\"linux\")  | (new_table.Plataforma2==\"mac\")) & (new_table.Plataforma3==\"linux\")][[\"Nombre\",\"Plataforma1\",\"Plataforma2\",\"Plataforma3\"]]\n",
        "p2"
      ],
      "execution_count": null,
      "outputs": [
        {
          "output_type": "execute_result",
          "data": {
            "text/html": [
              "<div>\n",
              "<style scoped>\n",
              "    .dataframe tbody tr th:only-of-type {\n",
              "        vertical-align: middle;\n",
              "    }\n",
              "\n",
              "    .dataframe tbody tr th {\n",
              "        vertical-align: top;\n",
              "    }\n",
              "\n",
              "    .dataframe thead th {\n",
              "        text-align: right;\n",
              "    }\n",
              "</style>\n",
              "<table border=\"1\" class=\"dataframe\">\n",
              "  <thead>\n",
              "    <tr style=\"text-align: right;\">\n",
              "      <th></th>\n",
              "      <th>Nombre</th>\n",
              "      <th>Plataforma1</th>\n",
              "      <th>Plataforma2</th>\n",
              "      <th>Plataforma3</th>\n",
              "    </tr>\n",
              "  </thead>\n",
              "  <tbody>\n",
              "    <tr>\n",
              "      <th>12</th>\n",
              "      <td>Don't Starve Together</td>\n",
              "      <td>win</td>\n",
              "      <td>mac</td>\n",
              "      <td>linux</td>\n",
              "    </tr>\n",
              "    <tr>\n",
              "      <th>15</th>\n",
              "      <td>American Truck Simulator</td>\n",
              "      <td>win</td>\n",
              "      <td>mac</td>\n",
              "      <td>linux</td>\n",
              "    </tr>\n",
              "    <tr>\n",
              "      <th>17</th>\n",
              "      <td>Monster Prom 2: Monster Camp</td>\n",
              "      <td>win</td>\n",
              "      <td>mac</td>\n",
              "      <td>linux</td>\n",
              "    </tr>\n",
              "    <tr>\n",
              "      <th>31</th>\n",
              "      <td>Iratus: Lord of the Dead</td>\n",
              "      <td>win</td>\n",
              "      <td>mac</td>\n",
              "      <td>linux</td>\n",
              "    </tr>\n",
              "    <tr>\n",
              "      <th>33</th>\n",
              "      <td>Monster Prom: Franchise Bundle</td>\n",
              "      <td>win</td>\n",
              "      <td>mac</td>\n",
              "      <td>linux</td>\n",
              "    </tr>\n",
              "    <tr>\n",
              "      <th>36</th>\n",
              "      <td>Don't Starve</td>\n",
              "      <td>win</td>\n",
              "      <td>mac</td>\n",
              "      <td>linux</td>\n",
              "    </tr>\n",
              "    <tr>\n",
              "      <th>37</th>\n",
              "      <td>Euro Truck Simulator 2</td>\n",
              "      <td>win</td>\n",
              "      <td>mac</td>\n",
              "      <td>linux</td>\n",
              "    </tr>\n",
              "    <tr>\n",
              "      <th>38</th>\n",
              "      <td>Hotline Miami 2: Wrong Number</td>\n",
              "      <td>win</td>\n",
              "      <td>mac</td>\n",
              "      <td>linux</td>\n",
              "    </tr>\n",
              "    <tr>\n",
              "      <th>39</th>\n",
              "      <td>Shadow of the Tomb Raider: Definitive Edition</td>\n",
              "      <td>win</td>\n",
              "      <td>mac</td>\n",
              "      <td>linux</td>\n",
              "    </tr>\n",
              "    <tr>\n",
              "      <th>43</th>\n",
              "      <td>Kerbal Space Program</td>\n",
              "      <td>win</td>\n",
              "      <td>mac</td>\n",
              "      <td>linux</td>\n",
              "    </tr>\n",
              "    <tr>\n",
              "      <th>44</th>\n",
              "      <td>Pacific Northwest</td>\n",
              "      <td>win</td>\n",
              "      <td>mac</td>\n",
              "      <td>linux</td>\n",
              "    </tr>\n",
              "    <tr>\n",
              "      <th>45</th>\n",
              "      <td>Don't Starve MEGA PACK 2020</td>\n",
              "      <td>win</td>\n",
              "      <td>mac</td>\n",
              "      <td>linux</td>\n",
              "    </tr>\n",
              "    <tr>\n",
              "      <th>48</th>\n",
              "      <td>Shadow of the Tomb Raider: Definitive Edition</td>\n",
              "      <td>win</td>\n",
              "      <td>mac</td>\n",
              "      <td>linux</td>\n",
              "    </tr>\n",
              "    <tr>\n",
              "      <th>49</th>\n",
              "      <td>Monster Prom</td>\n",
              "      <td>win</td>\n",
              "      <td>mac</td>\n",
              "      <td>linux</td>\n",
              "    </tr>\n",
              "  </tbody>\n",
              "</table>\n",
              "</div>"
            ],
            "text/plain": [
              "                                           Nombre  ... Plataforma3\n",
              "12                          Don't Starve Together  ...       linux\n",
              "15                       American Truck Simulator  ...       linux\n",
              "17                   Monster Prom 2: Monster Camp  ...       linux\n",
              "31                       Iratus: Lord of the Dead  ...       linux\n",
              "33                 Monster Prom: Franchise Bundle  ...       linux\n",
              "36                                   Don't Starve  ...       linux\n",
              "37                         Euro Truck Simulator 2  ...       linux\n",
              "38                  Hotline Miami 2: Wrong Number  ...       linux\n",
              "39  Shadow of the Tomb Raider: Definitive Edition  ...       linux\n",
              "43                           Kerbal Space Program  ...       linux\n",
              "44                              Pacific Northwest  ...       linux\n",
              "45                    Don't Starve MEGA PACK 2020  ...       linux\n",
              "48  Shadow of the Tomb Raider: Definitive Edition  ...       linux\n",
              "49                                   Monster Prom  ...       linux\n",
              "\n",
              "[14 rows x 4 columns]"
            ]
          },
          "metadata": {
            "tags": []
          },
          "execution_count": 11
        }
      ]
    },
    {
      "cell_type": "markdown",
      "metadata": {
        "id": "tleakIL0Vruc"
      },
      "source": [
        "---\n",
        "\n",
        "## Pregunta 3\n",
        " \n",
        "Entregue dos tablas, una con los juegos con precio de oferta de *\\$5.000* o menos y otra con los respectivos juegos con precio original de \\$15.000 o menos."
      ]
    },
    {
      "cell_type": "code",
      "metadata": {
        "id": "uddv307fVsjE",
        "colab": {
          "base_uri": "https://localhost:8080/",
          "height": 269
        },
        "outputId": "147ac999-b232-4469-fb9a-b5b932c38205"
      },
      "source": [
        "#primero se hace una consulta sobre los resultados que tengan un precio oferta inferior a 5000 y se muestra\n",
        "p3_1 =new_table[new_table.Precio_Oferta <= 5000][[\"Nombre\",\"Precio_Oferta\"]]\n",
        "p3_1"
      ],
      "execution_count": null,
      "outputs": [
        {
          "output_type": "execute_result",
          "data": {
            "text/html": [
              "<div>\n",
              "<style scoped>\n",
              "    .dataframe tbody tr th:only-of-type {\n",
              "        vertical-align: middle;\n",
              "    }\n",
              "\n",
              "    .dataframe tbody tr th {\n",
              "        vertical-align: top;\n",
              "    }\n",
              "\n",
              "    .dataframe thead th {\n",
              "        text-align: right;\n",
              "    }\n",
              "</style>\n",
              "<table border=\"1\" class=\"dataframe\">\n",
              "  <thead>\n",
              "    <tr style=\"text-align: right;\">\n",
              "      <th></th>\n",
              "      <th>Nombre</th>\n",
              "      <th>Precio_Oferta</th>\n",
              "    </tr>\n",
              "  </thead>\n",
              "  <tbody>\n",
              "    <tr>\n",
              "      <th>12</th>\n",
              "      <td>Don't Starve Together</td>\n",
              "      <td>3960.02</td>\n",
              "    </tr>\n",
              "    <tr>\n",
              "      <th>14</th>\n",
              "      <td>Fallout: New Vegas</td>\n",
              "      <td>2326.22</td>\n",
              "    </tr>\n",
              "    <tr>\n",
              "      <th>15</th>\n",
              "      <td>American Truck Simulator</td>\n",
              "      <td>3882.22</td>\n",
              "    </tr>\n",
              "    <tr>\n",
              "      <th>36</th>\n",
              "      <td>Don't Starve</td>\n",
              "      <td>1937.22</td>\n",
              "    </tr>\n",
              "    <tr>\n",
              "      <th>37</th>\n",
              "      <td>Euro Truck Simulator 2</td>\n",
              "      <td>3882.22</td>\n",
              "    </tr>\n",
              "    <tr>\n",
              "      <th>38</th>\n",
              "      <td>Hotline Miami 2: Wrong Number</td>\n",
              "      <td>2326.22</td>\n",
              "    </tr>\n",
              "    <tr>\n",
              "      <th>49</th>\n",
              "      <td>Monster Prom</td>\n",
              "      <td>2894.16</td>\n",
              "    </tr>\n",
              "  </tbody>\n",
              "</table>\n",
              "</div>"
            ],
            "text/plain": [
              "                           Nombre  Precio_Oferta\n",
              "12          Don't Starve Together        3960.02\n",
              "14             Fallout: New Vegas        2326.22\n",
              "15       American Truck Simulator        3882.22\n",
              "36                   Don't Starve        1937.22\n",
              "37         Euro Truck Simulator 2        3882.22\n",
              "38  Hotline Miami 2: Wrong Number        2326.22\n",
              "49                   Monster Prom        2894.16"
            ]
          },
          "metadata": {
            "tags": []
          },
          "execution_count": 12
        }
      ]
    },
    {
      "cell_type": "code",
      "metadata": {
        "id": "LzLKh-ddWerr",
        "colab": {
          "base_uri": "https://localhost:8080/",
          "height": 340
        },
        "outputId": "822cbde1-4c37-4c28-922a-ba16abd75dfa"
      },
      "source": [
        "#despues se toma el resultado anterior y se aplica otro filtro sobre los juegos cuyo precio original es 15000 o menos\n",
        "p3_2 = p3_1[p3_1.Precio_Original <= 15000][[\"Nombre\",\"Precio_Original\"]]\n",
        "p3_2"
      ],
      "execution_count": null,
      "outputs": [
        {
          "output_type": "error",
          "ename": "AttributeError",
          "evalue": "ignored",
          "traceback": [
            "\u001b[0;31m---------------------------------------------------------------------------\u001b[0m",
            "\u001b[0;31mAttributeError\u001b[0m                            Traceback (most recent call last)",
            "\u001b[0;32m<ipython-input-14-c1eae6aacb93>\u001b[0m in \u001b[0;36m<module>\u001b[0;34m()\u001b[0m\n\u001b[1;32m      1\u001b[0m \u001b[0;31m#despues se toma el resultado anterior y se aplica otro filtro sobre los juegos cuyo precio original es 15000 o menos\u001b[0m\u001b[0;34m\u001b[0m\u001b[0;34m\u001b[0m\u001b[0;34m\u001b[0m\u001b[0m\n\u001b[0;32m----> 2\u001b[0;31m \u001b[0mp3_2\u001b[0m \u001b[0;34m=\u001b[0m \u001b[0mp3_1\u001b[0m\u001b[0;34m[\u001b[0m\u001b[0mp3_1\u001b[0m\u001b[0;34m.\u001b[0m\u001b[0mPrecio_Original\u001b[0m \u001b[0;34m<=\u001b[0m \u001b[0;36m15000\u001b[0m\u001b[0;34m]\u001b[0m\u001b[0;34m[\u001b[0m\u001b[0;34m[\u001b[0m\u001b[0;34m\"Nombre\"\u001b[0m\u001b[0;34m,\u001b[0m\u001b[0;34m\"Precio_Original\"\u001b[0m\u001b[0;34m]\u001b[0m\u001b[0;34m]\u001b[0m\u001b[0;34m\u001b[0m\u001b[0;34m\u001b[0m\u001b[0m\n\u001b[0m\u001b[1;32m      3\u001b[0m \u001b[0mp3_2\u001b[0m\u001b[0;34m\u001b[0m\u001b[0;34m\u001b[0m\u001b[0m\n",
            "\u001b[0;32m/usr/local/lib/python3.6/dist-packages/pandas/core/generic.py\u001b[0m in \u001b[0;36m__getattr__\u001b[0;34m(self, name)\u001b[0m\n\u001b[1;32m   5137\u001b[0m             \u001b[0;32mif\u001b[0m \u001b[0mself\u001b[0m\u001b[0;34m.\u001b[0m\u001b[0m_info_axis\u001b[0m\u001b[0;34m.\u001b[0m\u001b[0m_can_hold_identifiers_and_holds_name\u001b[0m\u001b[0;34m(\u001b[0m\u001b[0mname\u001b[0m\u001b[0;34m)\u001b[0m\u001b[0;34m:\u001b[0m\u001b[0;34m\u001b[0m\u001b[0;34m\u001b[0m\u001b[0m\n\u001b[1;32m   5138\u001b[0m                 \u001b[0;32mreturn\u001b[0m \u001b[0mself\u001b[0m\u001b[0;34m[\u001b[0m\u001b[0mname\u001b[0m\u001b[0;34m]\u001b[0m\u001b[0;34m\u001b[0m\u001b[0;34m\u001b[0m\u001b[0m\n\u001b[0;32m-> 5139\u001b[0;31m             \u001b[0;32mreturn\u001b[0m \u001b[0mobject\u001b[0m\u001b[0;34m.\u001b[0m\u001b[0m__getattribute__\u001b[0m\u001b[0;34m(\u001b[0m\u001b[0mself\u001b[0m\u001b[0;34m,\u001b[0m \u001b[0mname\u001b[0m\u001b[0;34m)\u001b[0m\u001b[0;34m\u001b[0m\u001b[0;34m\u001b[0m\u001b[0m\n\u001b[0m\u001b[1;32m   5140\u001b[0m \u001b[0;34m\u001b[0m\u001b[0m\n\u001b[1;32m   5141\u001b[0m     \u001b[0;32mdef\u001b[0m \u001b[0m__setattr__\u001b[0m\u001b[0;34m(\u001b[0m\u001b[0mself\u001b[0m\u001b[0;34m,\u001b[0m \u001b[0mname\u001b[0m\u001b[0;34m:\u001b[0m \u001b[0mstr\u001b[0m\u001b[0;34m,\u001b[0m \u001b[0mvalue\u001b[0m\u001b[0;34m)\u001b[0m \u001b[0;34m->\u001b[0m \u001b[0;32mNone\u001b[0m\u001b[0;34m:\u001b[0m\u001b[0;34m\u001b[0m\u001b[0;34m\u001b[0m\u001b[0m\n",
            "\u001b[0;31mAttributeError\u001b[0m: 'DataFrame' object has no attribute 'Precio_Original'"
          ]
        }
      ]
    },
    {
      "cell_type": "markdown",
      "metadata": {
        "id": "iBiz2q10BZcA"
      },
      "source": [
        "En ambas tablas, por la poca cantidad de muestras (tipos de juegos) escogias (50 muestras), se obtuvieron los mismos resultados en las tablas. Al trabajar con más cantidad de muestras se podrian haber tenido más resultados."
      ]
    },
    {
      "cell_type": "markdown",
      "metadata": {
        "id": "Pt9DsamQaek1"
      },
      "source": [
        "---\n",
        "\n",
        "## Pregunta 4\n",
        "\n",
        "Muestre el precio promedio de las ofertas"
      ]
    },
    {
      "cell_type": "code",
      "metadata": {
        "id": "m_0LIb13afvS",
        "colab": {
          "base_uri": "https://localhost:8080/",
          "height": 35
        },
        "outputId": "7d9aa9a6-c55a-4ebd-c591-58f83074c7ab"
      },
      "source": [
        "#Se hace un promedio para todas las columnas de la tabla y despues se consulta solo la de precio oferta\n",
        "p4 = new_table.mean()[\"Precio_Oferta\"]\n",
        "p4"
      ],
      "execution_count": null,
      "outputs": [
        {
          "output_type": "execute_result",
          "data": {
            "text/plain": [
              "14109.744489795909"
            ]
          },
          "metadata": {
            "tags": []
          },
          "execution_count": 15
        }
      ]
    },
    {
      "cell_type": "markdown",
      "metadata": {
        "id": "-p7Jb0faB634"
      },
      "source": [
        "En general, el precio medio de los precios ofertas es alto (para un bolsillo universitario). "
      ]
    },
    {
      "cell_type": "markdown",
      "metadata": {
        "id": "aJFMdx8Zbbdq"
      },
      "source": [
        "---\n",
        "\n",
        "## Pregunta 5\n",
        "\n",
        "Muestre cuántos juegos disponibles hay por cada conjunto de plataformas.\n",
        "\n",
        "La tabla se debería ver similar a:\n",
        "\n",
        "| Plataformas | Juegos |\n",
        "|:-----------:|:------:|\n",
        "| Windows | 100\n",
        "| Windows y Mac | 21 |\n",
        "| ... | ... |\n"
      ]
    },
    {
      "cell_type": "code",
      "metadata": {
        "id": "nPGetpYQcaB2",
        "colab": {
          "base_uri": "https://localhost:8080/",
          "height": 144
        },
        "outputId": "cab5d867-a11d-4223-e62d-816e1afb7315"
      },
      "source": [
        "#Se realiza una cuenta sobre toda la tabla y despues se procede a mostrar solo las columnas de plataformas, se convierte en dataframe para mantener formato\n",
        "p5 = new_table.count()[[\"Plataforma1\",\"Plataforma2\",\"Plataforma3\"]]\n",
        "p5 = p5.to_frame()\n",
        "p5\n",
        "#incompleta"
      ],
      "execution_count": null,
      "outputs": [
        {
          "output_type": "execute_result",
          "data": {
            "text/html": [
              "<div>\n",
              "<style scoped>\n",
              "    .dataframe tbody tr th:only-of-type {\n",
              "        vertical-align: middle;\n",
              "    }\n",
              "\n",
              "    .dataframe tbody tr th {\n",
              "        vertical-align: top;\n",
              "    }\n",
              "\n",
              "    .dataframe thead th {\n",
              "        text-align: right;\n",
              "    }\n",
              "</style>\n",
              "<table border=\"1\" class=\"dataframe\">\n",
              "  <thead>\n",
              "    <tr style=\"text-align: right;\">\n",
              "      <th></th>\n",
              "      <th>0</th>\n",
              "    </tr>\n",
              "  </thead>\n",
              "  <tbody>\n",
              "    <tr>\n",
              "      <th>Plataforma1</th>\n",
              "      <td>50</td>\n",
              "    </tr>\n",
              "    <tr>\n",
              "      <th>Plataforma2</th>\n",
              "      <td>16</td>\n",
              "    </tr>\n",
              "    <tr>\n",
              "      <th>Plataforma3</th>\n",
              "      <td>14</td>\n",
              "    </tr>\n",
              "  </tbody>\n",
              "</table>\n",
              "</div>"
            ],
            "text/plain": [
              "              0\n",
              "Plataforma1  50\n",
              "Plataforma2  16\n",
              "Plataforma3  14"
            ]
          },
          "metadata": {
            "tags": []
          },
          "execution_count": 16
        }
      ]
    },
    {
      "cell_type": "markdown",
      "metadata": {
        "id": "XWMhqOc2Hg2H"
      },
      "source": [
        "---\n",
        "\n",
        "## Pregunta 6\n",
        "\n",
        "Mostrar el juego más barato en oferta por cada categoría"
      ]
    },
    {
      "cell_type": "code",
      "metadata": {
        "id": "AMKEIqozcZ7o",
        "colab": {
          "base_uri": "https://localhost:8080/",
          "height": 296
        },
        "outputId": "b8776359-1b79-4647-f405-1bbbf93aed21"
      },
      "source": [
        "!pip install PyDrive"
      ],
      "execution_count": null,
      "outputs": [
        {
          "output_type": "stream",
          "text": [
            "Requirement already satisfied: PyDrive in /usr/local/lib/python3.6/dist-packages (1.3.1)\n",
            "Requirement already satisfied: PyYAML>=3.0 in /usr/local/lib/python3.6/dist-packages (from PyDrive) (3.13)\n",
            "Requirement already satisfied: oauth2client>=4.0.0 in /usr/local/lib/python3.6/dist-packages (from PyDrive) (4.1.3)\n",
            "Requirement already satisfied: google-api-python-client>=1.2 in /usr/local/lib/python3.6/dist-packages (from PyDrive) (1.7.12)\n",
            "Requirement already satisfied: pyasn1>=0.1.7 in /usr/local/lib/python3.6/dist-packages (from oauth2client>=4.0.0->PyDrive) (0.4.8)\n",
            "Requirement already satisfied: pyasn1-modules>=0.0.5 in /usr/local/lib/python3.6/dist-packages (from oauth2client>=4.0.0->PyDrive) (0.2.8)\n",
            "Requirement already satisfied: httplib2>=0.9.1 in /usr/local/lib/python3.6/dist-packages (from oauth2client>=4.0.0->PyDrive) (0.17.4)\n",
            "Requirement already satisfied: six>=1.6.1 in /usr/local/lib/python3.6/dist-packages (from oauth2client>=4.0.0->PyDrive) (1.15.0)\n",
            "Requirement already satisfied: rsa>=3.1.4 in /usr/local/lib/python3.6/dist-packages (from oauth2client>=4.0.0->PyDrive) (4.6)\n",
            "Requirement already satisfied: google-auth>=1.4.1 in /usr/local/lib/python3.6/dist-packages (from google-api-python-client>=1.2->PyDrive) (1.17.2)\n",
            "Requirement already satisfied: google-auth-httplib2>=0.0.3 in /usr/local/lib/python3.6/dist-packages (from google-api-python-client>=1.2->PyDrive) (0.0.4)\n",
            "Requirement already satisfied: uritemplate<4dev,>=3.0.0 in /usr/local/lib/python3.6/dist-packages (from google-api-python-client>=1.2->PyDrive) (3.0.1)\n",
            "Requirement already satisfied: setuptools>=40.3.0 in /usr/local/lib/python3.6/dist-packages (from google-auth>=1.4.1->google-api-python-client>=1.2->PyDrive) (50.3.0)\n",
            "Requirement already satisfied: cachetools<5.0,>=2.0.0 in /usr/local/lib/python3.6/dist-packages (from google-auth>=1.4.1->google-api-python-client>=1.2->PyDrive) (4.1.1)\n"
          ],
          "name": "stdout"
        }
      ]
    },
    {
      "cell_type": "code",
      "metadata": {
        "id": "esdNWplVP3JU"
      },
      "source": [
        "from pydrive.auth import GoogleAuth\n",
        "from pydrive.drive import GoogleDrive\n",
        "from google.colab import auth\n",
        "from oauth2client.client import GoogleCredentials\n",
        "auth.authenticate_user()\n",
        "gauth = GoogleAuth()\n",
        "gauth.credentials = GoogleCredentials.get_application_default()\n",
        "drive = GoogleDrive(gauth)"
      ],
      "execution_count": null,
      "outputs": []
    },
    {
      "cell_type": "code",
      "metadata": {
        "id": "DmUjjUWwP6YI",
        "colab": {
          "base_uri": "https://localhost:8080/",
          "height": 229
        },
        "outputId": "411552a6-fb40-4a27-8f86-cfc19f3cfcf6"
      },
      "source": [
        "downloaded = drive.CreateFile({'id':\"1Hp3Z0Y9bzd_nK4JpY0e0357GIAxDLrHD\"})  \n",
        "downloaded.GetContentFile('tags.csv')        \n",
        "#todo el proceso anterior se realiza para acceder al archivo tags.\n",
        "\n",
        "import pandas as pd\n",
        "data = pd.read_csv('tags.csv')\n",
        "p6 = pd.merge(new_table,data,on='Código') #Se unen ambas tablas de acuerdo a la columna 'Etiqueta',se seleccionan solo las columnas de nombre y precio oferta\n",
        "                                          #la cual permite obtener el menor valor dentro de dicho grupo.\n",
        "p66=p6.groupby('Etiqueta')[['Nombre','Precio_Oferta']].min()\n",
        "p66"
      ],
      "execution_count": null,
      "outputs": [
        {
          "output_type": "error",
          "ename": "NameError",
          "evalue": "ignored",
          "traceback": [
            "\u001b[0;31m---------------------------------------------------------------------------\u001b[0m",
            "\u001b[0;31mNameError\u001b[0m                                 Traceback (most recent call last)",
            "\u001b[0;32m<ipython-input-2-0b7f8a7a624a>\u001b[0m in \u001b[0;36m<module>\u001b[0;34m()\u001b[0m\n\u001b[0;32m----> 1\u001b[0;31m \u001b[0mdownloaded\u001b[0m \u001b[0;34m=\u001b[0m \u001b[0mdrive\u001b[0m\u001b[0;34m.\u001b[0m\u001b[0mCreateFile\u001b[0m\u001b[0;34m(\u001b[0m\u001b[0;34m{\u001b[0m\u001b[0;34m'id'\u001b[0m\u001b[0;34m:\u001b[0m\u001b[0;34m\"1Hp3Z0Y9bzd_nK4JpY0e0357GIAxDLrHD\"\u001b[0m\u001b[0;34m}\u001b[0m\u001b[0;34m)\u001b[0m\u001b[0;34m\u001b[0m\u001b[0;34m\u001b[0m\u001b[0m\n\u001b[0m\u001b[1;32m      2\u001b[0m \u001b[0mdownloaded\u001b[0m\u001b[0;34m.\u001b[0m\u001b[0mGetContentFile\u001b[0m\u001b[0;34m(\u001b[0m\u001b[0;34m'tags.csv'\u001b[0m\u001b[0;34m)\u001b[0m\u001b[0;34m\u001b[0m\u001b[0;34m\u001b[0m\u001b[0m\n\u001b[1;32m      3\u001b[0m \u001b[0;31m#todo el proceso anterior se realiza para acceder al archivo tags.\u001b[0m\u001b[0;34m\u001b[0m\u001b[0;34m\u001b[0m\u001b[0;34m\u001b[0m\u001b[0m\n\u001b[1;32m      4\u001b[0m \u001b[0;34m\u001b[0m\u001b[0m\n\u001b[1;32m      5\u001b[0m \u001b[0;32mimport\u001b[0m \u001b[0mpandas\u001b[0m \u001b[0;32mas\u001b[0m \u001b[0mpd\u001b[0m\u001b[0;34m\u001b[0m\u001b[0;34m\u001b[0m\u001b[0m\n",
            "\u001b[0;31mNameError\u001b[0m: name 'drive' is not defined"
          ]
        }
      ]
    },
    {
      "cell_type": "code",
      "metadata": {
        "id": "6DFdZINRQFIz"
      },
      "source": [
        ""
      ],
      "execution_count": null,
      "outputs": []
    }
  ]
}