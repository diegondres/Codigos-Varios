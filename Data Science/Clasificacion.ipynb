{
  "nbformat": 4,
  "nbformat_minor": 0,
  "metadata": {
    "colab": {
      "name": "chimbaTarea4.ipynb",
      "provenance": [],
      "collapsed_sections": []
    },
    "kernelspec": {
      "name": "python3",
      "display_name": "Python 3"
    }
  },
  "cells": [
    {
      "cell_type": "markdown",
      "metadata": {
        "id": "5OdJ_Qrx12-x"
      },
      "source": [
        "----------------------------\n",
        "Tarea de Clasificación"
      ]
    },
    {
      "cell_type": "markdown",
      "metadata": {
        "id": "k3k9ivry18YU"
      },
      "source": [
        "---------------------------------------"
      ]
    },
    {
      "cell_type": "markdown",
      "metadata": {
        "id": "nzBxPtFDUh5q"
      },
      "source": [
        "Lo que haremos será probar distintos metodos de Clasificación y elegir el que nos entregue una mejor puntuacion F1 utilizando una parte del conjunto entrenamiento para pruebas.\n",
        "Usaremos la configuración que indique el Cross-Validation.\n",
        "\n"
      ]
    },
    {
      "cell_type": "code",
      "metadata": {
        "id": "38J0r8FqvnRk"
      },
      "source": [
        "import sys\n",
        "import numpy as np\n",
        "import pylab as pl\n",
        "import pandas as pd   \n",
        "import matplotlib.pyplot as plt\n",
        "from sklearn.model_selection import train_test_split\n"
      ],
      "execution_count": null,
      "outputs": []
    },
    {
      "cell_type": "code",
      "metadata": {
        "id": "qqPi2j23XP88"
      },
      "source": [
        "df_train2 = pd.read_csv(\"data/GZ_mini_challenge_train.csv\")\n",
        "df_train2= df_train2.drop(columns = [\"ID\",\"objID\",\"p_cs\",\t\"p_el\"])\n",
        "xxx=df_train2.values[:,:85]\n",
        "yyy=df_train2.values[:,85]\n",
        "#dividimos en conjunto de entrenamiento y prueba\n",
        "XXX_train, XXX_test, yyy_train, yyy_test = train_test_split(\n",
        "    xxx, yyy, test_size=0.3, random_state=10, shuffle = \"True\")"
      ],
      "execution_count": null,
      "outputs": []
    },
    {
      "cell_type": "code",
      "metadata": {
        "id": "nw2wplKlv7Ld"
      },
      "source": [
        "from sklearn.neighbors import KNeighborsClassifier\n",
        "from sklearn.model_selection import GridSearchCV"
      ],
      "execution_count": null,
      "outputs": []
    },
    {
      "cell_type": "code",
      "metadata": {
        "colab": {
          "base_uri": "https://localhost:8080/"
        },
        "id": "DXCm26CzYddf",
        "outputId": "7b25b250-0515-4f39-a5b7-70df7fd61f9f"
      },
      "source": [
        "K_range = np.arange(1, 25)\n",
        "pesos = [\"uniform\", \"distance\"]\n",
        "param_grid = dict(n_neighbors = K_range, weights = pesos)\n",
        "grid2 = GridSearchCV ( KNeighborsClassifier(), cv = 5, \n",
        "                     param_grid = param_grid)\n",
        "grid2.fit (XXX_train, yyy_train)"
      ],
      "execution_count": null,
      "outputs": [
        {
          "output_type": "execute_result",
          "data": {
            "text/plain": [
              "GridSearchCV(cv=5, error_score=nan,\n",
              "             estimator=KNeighborsClassifier(algorithm='auto', leaf_size=30,\n",
              "                                            metric='minkowski',\n",
              "                                            metric_params=None, n_jobs=None,\n",
              "                                            n_neighbors=5, p=2,\n",
              "                                            weights='uniform'),\n",
              "             iid='deprecated', n_jobs=None,\n",
              "             param_grid={'n_neighbors': array([ 1,  2,  3,  4,  5,  6,  7,  8,  9, 10, 11, 12, 13, 14, 15, 16, 17,\n",
              "       18, 19, 20, 21, 22, 23, 24]),\n",
              "                         'weights': ['uniform', 'distance']},\n",
              "             pre_dispatch='2*n_jobs', refit=True, return_train_score=False,\n",
              "             scoring=None, verbose=0)"
            ]
          },
          "metadata": {
            "tags": []
          },
          "execution_count": 8
        }
      ]
    },
    {
      "cell_type": "code",
      "metadata": {
        "id": "CosJYx0SY8z7"
      },
      "source": [
        "from sklearn.metrics import accuracy_score\n",
        "from sklearn.metrics import balanced_accuracy_score\n",
        "from sklearn.metrics import precision_score\n",
        "from sklearn.metrics import recall_score\n",
        "from sklearn.metrics import f1_score"
      ],
      "execution_count": null,
      "outputs": []
    },
    {
      "cell_type": "code",
      "metadata": {
        "colab": {
          "base_uri": "https://localhost:8080/"
        },
        "id": "Hi_CsJP-Yuq2",
        "outputId": "50fd10aa-b524-4fde-c0f2-a543381a4313"
      },
      "source": [
        "yyy_pred = grid2.best_estimator_.predict(XXX_test)\n",
        "accuracy_score(yyy_test,yyy_pred)"
      ],
      "execution_count": null,
      "outputs": [
        {
          "output_type": "execute_result",
          "data": {
            "text/plain": [
              "0.7466666666666667"
            ]
          },
          "metadata": {
            "tags": []
          },
          "execution_count": 16
        }
      ]
    },
    {
      "cell_type": "code",
      "metadata": {
        "colab": {
          "base_uri": "https://localhost:8080/"
        },
        "id": "XphqI0aOZHBf",
        "outputId": "babf04d9-1117-43de-8fe1-e12ebf3fe087"
      },
      "source": [
        "f1_score(yyy_test,yyy_pred,average='macro')"
      ],
      "execution_count": null,
      "outputs": [
        {
          "output_type": "execute_result",
          "data": {
            "text/plain": [
              "0.47775095701362985"
            ]
          },
          "metadata": {
            "tags": []
          },
          "execution_count": 11
        }
      ]
    },
    {
      "cell_type": "code",
      "metadata": {
        "colab": {
          "base_uri": "https://localhost:8080/"
        },
        "id": "FUBzwgEwwEvG",
        "outputId": "70c12500-be3f-4701-8a33-03acd40b5a86"
      },
      "source": [
        "from sklearn import tree\n",
        "\n",
        "prof = np.arange(1,21)\n",
        "param_grid = dict(max_depth = prof)\n",
        "grid3 = GridSearchCV (tree.DecisionTreeClassifier(), cv = 5, \n",
        "                     param_grid = param_grid)\n",
        "grid3.fit(XXX_train, yyy_train)"
      ],
      "execution_count": null,
      "outputs": [
        {
          "output_type": "execute_result",
          "data": {
            "text/plain": [
              "GridSearchCV(cv=5, error_score=nan,\n",
              "             estimator=DecisionTreeClassifier(ccp_alpha=0.0, class_weight=None,\n",
              "                                              criterion='gini', max_depth=None,\n",
              "                                              max_features=None,\n",
              "                                              max_leaf_nodes=None,\n",
              "                                              min_impurity_decrease=0.0,\n",
              "                                              min_impurity_split=None,\n",
              "                                              min_samples_leaf=1,\n",
              "                                              min_samples_split=2,\n",
              "                                              min_weight_fraction_leaf=0.0,\n",
              "                                              presort='deprecated',\n",
              "                                              random_state=None,\n",
              "                                              splitter='best'),\n",
              "             iid='deprecated', n_jobs=None,\n",
              "             param_grid={'max_depth': array([ 1,  2,  3,  4,  5,  6,  7,  8,  9, 10, 11, 12, 13, 14, 15, 16, 17,\n",
              "       18, 19, 20])},\n",
              "             pre_dispatch='2*n_jobs', refit=True, return_train_score=False,\n",
              "             scoring=None, verbose=0)"
            ]
          },
          "metadata": {
            "tags": []
          },
          "execution_count": 12
        }
      ]
    },
    {
      "cell_type": "code",
      "metadata": {
        "colab": {
          "base_uri": "https://localhost:8080/"
        },
        "id": "wRiTJyfbwQOi",
        "outputId": "a7a0f581-76ed-479d-88a4-f92eae57bdd6"
      },
      "source": [
        "yyy_predTree = grid3.best_estimator_.predict(XXX_test)\n",
        "accuracy_score(yyy_test,yyy_predTree)"
      ],
      "execution_count": null,
      "outputs": [
        {
          "output_type": "execute_result",
          "data": {
            "text/plain": [
              "0.8033333333333333"
            ]
          },
          "metadata": {
            "tags": []
          },
          "execution_count": 17
        }
      ]
    },
    {
      "cell_type": "code",
      "metadata": {
        "colab": {
          "base_uri": "https://localhost:8080/"
        },
        "id": "GQ-N_RfEwXiH",
        "outputId": "a7789e8d-3c96-4d2f-cc64-8983fe5d7bdc"
      },
      "source": [
        "f1_score(yyy_test,yyy_predTree,average='macro')"
      ],
      "execution_count": null,
      "outputs": [
        {
          "output_type": "execute_result",
          "data": {
            "text/plain": [
              "0.5310077519379846"
            ]
          },
          "metadata": {
            "tags": []
          },
          "execution_count": 18
        }
      ]
    },
    {
      "cell_type": "code",
      "metadata": {
        "colab": {
          "base_uri": "https://localhost:8080/"
        },
        "id": "2pyek2wvwtv9",
        "outputId": "7cc49ba5-e3f1-4294-a5e8-6ddd8276eaf8"
      },
      "source": [
        "from sklearn.ensemble.forest import RandomForestClassifier\n",
        "\n",
        "prof = np.arange(1,11)\n",
        "param_grid = dict(max_depth = prof)\n",
        "gridRF = GridSearchCV (RandomForestClassifier(), cv = 5, \n",
        "                     param_grid = param_grid)\n",
        "gridRF.fit (XXX_train, yyy_train)"
      ],
      "execution_count": null,
      "outputs": [
        {
          "output_type": "execute_result",
          "data": {
            "text/plain": [
              "GridSearchCV(cv=5, error_score=nan,\n",
              "             estimator=RandomForestClassifier(bootstrap=True, ccp_alpha=0.0,\n",
              "                                              class_weight=None,\n",
              "                                              criterion='gini', max_depth=None,\n",
              "                                              max_features='auto',\n",
              "                                              max_leaf_nodes=None,\n",
              "                                              max_samples=None,\n",
              "                                              min_impurity_decrease=0.0,\n",
              "                                              min_impurity_split=None,\n",
              "                                              min_samples_leaf=1,\n",
              "                                              min_samples_split=2,\n",
              "                                              min_weight_fraction_leaf=0.0,\n",
              "                                              n_estimators=100, n_jobs=None,\n",
              "                                              oob_score=False,\n",
              "                                              random_state=None, verbose=0,\n",
              "                                              warm_start=False),\n",
              "             iid='deprecated', n_jobs=None,\n",
              "             param_grid={'max_depth': array([ 1,  2,  3,  4,  5,  6,  7,  8,  9, 10])},\n",
              "             pre_dispatch='2*n_jobs', refit=True, return_train_score=False,\n",
              "             scoring=None, verbose=0)"
            ]
          },
          "metadata": {
            "tags": []
          },
          "execution_count": 20
        }
      ]
    },
    {
      "cell_type": "code",
      "metadata": {
        "colab": {
          "base_uri": "https://localhost:8080/"
        },
        "id": "grjmJoUTxYOK",
        "outputId": "502d714e-8e2b-4e5a-f5c8-897e12f1f8d4"
      },
      "source": [
        "yyy_predRF = gridRF.best_estimator_.predict(XXX_test)\n",
        "accuracy_score(yyy_test,yyy_predRF)"
      ],
      "execution_count": null,
      "outputs": [
        {
          "output_type": "execute_result",
          "data": {
            "text/plain": [
              "0.8066666666666666"
            ]
          },
          "metadata": {
            "tags": []
          },
          "execution_count": 21
        }
      ]
    },
    {
      "cell_type": "code",
      "metadata": {
        "colab": {
          "base_uri": "https://localhost:8080/"
        },
        "id": "wGUA3SZVxl1U",
        "outputId": "7d55a877-b660-4918-ff2b-11213067697f"
      },
      "source": [
        "f1_score(yyy_test,yyy_predRF,average='macro')"
      ],
      "execution_count": null,
      "outputs": [
        {
          "output_type": "execute_result",
          "data": {
            "text/plain": [
              "0.5502603491487338"
            ]
          },
          "metadata": {
            "tags": []
          },
          "execution_count": 22
        }
      ]
    },
    {
      "cell_type": "code",
      "metadata": {
        "colab": {
          "base_uri": "https://localhost:8080/"
        },
        "id": "pOHACFpwzFaX",
        "outputId": "103a6de8-7b9b-4470-fa3c-d71cbfb88445"
      },
      "source": [
        "from sklearn.svm import SVC\n",
        "\n",
        "kernels = [\"poly\", \"rbf\", \"sigmoid\"]\n",
        "ce = [0.01, 0.5, 1.0, 2.0, 2.5, 3.0, 5.0, 10.0]\n",
        "param_grid = dict(kernel = kernels, C = ce)\n",
        "gridSVM = GridSearchCV (SVC(), cv = 5, \n",
        "                     param_grid = param_grid)\n",
        "gridSVM.fit (XXX_train, yyy_train)"
      ],
      "execution_count": null,
      "outputs": [
        {
          "output_type": "execute_result",
          "data": {
            "text/plain": [
              "GridSearchCV(cv=5, error_score=nan,\n",
              "             estimator=SVC(C=1.0, break_ties=False, cache_size=200,\n",
              "                           class_weight=None, coef0=0.0,\n",
              "                           decision_function_shape='ovr', degree=3,\n",
              "                           gamma='scale', kernel='rbf', max_iter=-1,\n",
              "                           probability=False, random_state=None, shrinking=True,\n",
              "                           tol=0.001, verbose=False),\n",
              "             iid='deprecated', n_jobs=None,\n",
              "             param_grid={'C': [0.01, 0.5, 1.0, 2.0, 2.5, 3.0, 5.0, 10.0],\n",
              "                         'kernel': ['poly', 'rbf', 'sigmoid']},\n",
              "             pre_dispatch='2*n_jobs', refit=True, return_train_score=False,\n",
              "             scoring=None, verbose=0)"
            ]
          },
          "metadata": {
            "tags": []
          },
          "execution_count": 24
        }
      ]
    },
    {
      "cell_type": "code",
      "metadata": {
        "colab": {
          "base_uri": "https://localhost:8080/"
        },
        "id": "ImYC0Ml_zRWR",
        "outputId": "8e9dc8ad-9d14-429a-ca17-99650f59fe90"
      },
      "source": [
        "yyy_predSVM = gridSVM.best_estimator_.predict(XXX_test)\n",
        "accuracy_score(yyy_test,yyy_predSVM)"
      ],
      "execution_count": null,
      "outputs": [
        {
          "output_type": "execute_result",
          "data": {
            "text/plain": [
              "0.6566666666666666"
            ]
          },
          "metadata": {
            "tags": []
          },
          "execution_count": 25
        }
      ]
    },
    {
      "cell_type": "code",
      "metadata": {
        "colab": {
          "base_uri": "https://localhost:8080/"
        },
        "id": "XgV3NUJf0yjY",
        "outputId": "1bd0d02c-cd38-4942-b587-b248abc9d2e7"
      },
      "source": [
        "f1_score(yyy_test,yyy_predSVM,average='macro')"
      ],
      "execution_count": null,
      "outputs": [
        {
          "output_type": "execute_result",
          "data": {
            "text/plain": [
              "0.2642521797451374"
            ]
          },
          "metadata": {
            "tags": []
          },
          "execution_count": 30
        }
      ]
    },
    {
      "cell_type": "markdown",
      "metadata": {
        "id": "U8a-ikpXzlWT"
      },
      "source": [
        "-----\n",
        "Como podemos observar la clasificacion por Random Forest es la que ha tenido el F1 score mas alto, esperemos que entrenandolo con mas dato el puntaje sea mejor. \n"
      ]
    },
    {
      "cell_type": "code",
      "metadata": {
        "colab": {
          "base_uri": "https://localhost:8080/"
        },
        "id": "d1HR5X460Gvy",
        "outputId": "e397e361-63a7-4a82-f985-0ef8c34f95d1"
      },
      "source": [
        "gridRF.best_estimator_"
      ],
      "execution_count": null,
      "outputs": [
        {
          "output_type": "execute_result",
          "data": {
            "text/plain": [
              "RandomForestClassifier(bootstrap=True, ccp_alpha=0.0, class_weight=None,\n",
              "                       criterion='gini', max_depth=9, max_features='auto',\n",
              "                       max_leaf_nodes=None, max_samples=None,\n",
              "                       min_impurity_decrease=0.0, min_impurity_split=None,\n",
              "                       min_samples_leaf=1, min_samples_split=2,\n",
              "                       min_weight_fraction_leaf=0.0, n_estimators=100,\n",
              "                       n_jobs=None, oob_score=False, random_state=None,\n",
              "                       verbose=0, warm_start=False)"
            ]
          },
          "metadata": {
            "tags": []
          },
          "execution_count": 27
        }
      ]
    },
    {
      "cell_type": "code",
      "metadata": {
        "id": "-E1CjMw70j_0"
      },
      "source": [
        "model = RandomForestClassifier(bootstrap=True, ccp_alpha=0.0, class_weight=None,\n",
        "                       criterion='gini', max_depth=9, max_features='auto',\n",
        "                       max_leaf_nodes=None, max_samples=None,\n",
        "                       min_impurity_decrease=0.0, min_impurity_split=None,\n",
        "                       min_samples_leaf=1, min_samples_split=2,\n",
        "                       min_weight_fraction_leaf=0.0, n_estimators=100,\n",
        "                       n_jobs=None, oob_score=False, random_state=None,\n",
        "                       verbose=0, warm_start=False)\n"
      ],
      "execution_count": null,
      "outputs": []
    },
    {
      "cell_type": "code",
      "metadata": {
        "colab": {
          "base_uri": "https://localhost:8080/"
        },
        "id": "5wP3mpiz0rWn",
        "outputId": "88df2829-e07d-4084-cb56-69e6558a0466"
      },
      "source": [
        "model.fit(xxx,yyy)"
      ],
      "execution_count": null,
      "outputs": [
        {
          "output_type": "execute_result",
          "data": {
            "text/plain": [
              "RandomForestClassifier(bootstrap=True, ccp_alpha=0.0, class_weight=None,\n",
              "                       criterion='gini', max_depth=9, max_features='auto',\n",
              "                       max_leaf_nodes=None, max_samples=None,\n",
              "                       min_impurity_decrease=0.0, min_impurity_split=None,\n",
              "                       min_samples_leaf=1, min_samples_split=2,\n",
              "                       min_weight_fraction_leaf=0.0, n_estimators=100,\n",
              "                       n_jobs=None, oob_score=False, random_state=None,\n",
              "                       verbose=0, warm_start=False)"
            ]
          },
          "metadata": {
            "tags": []
          },
          "execution_count": 29
        }
      ]
    },
    {
      "cell_type": "code",
      "metadata": {
        "colab": {
          "base_uri": "https://localhost:8080/"
        },
        "id": "UaATOv121Cuz",
        "outputId": "4ed36459-a95d-497a-ffcc-567a7aa93103"
      },
      "source": [
        "df_test = pd.read_csv(\"data/GZ_mini_challenge_test.csv\")\n",
        "X_test = df_test.loc[:, (df_test.columns != 'ID')].values\n",
        "print (X_test.shape)"
      ],
      "execution_count": null,
      "outputs": [
        {
          "output_type": "stream",
          "text": [
            "(10000, 85)\n"
          ],
          "name": "stdout"
        }
      ]
    },
    {
      "cell_type": "code",
      "metadata": {
        "id": "c_yV18CC04bp"
      },
      "source": [
        "y_test = model.predict(X_test)"
      ],
      "execution_count": null,
      "outputs": []
    },
    {
      "cell_type": "code",
      "metadata": {
        "id": "mS3rISns1IiY"
      },
      "source": [
        "df_out = df_test.loc[:, ['ID']]\n",
        "df_out['predicted'] = y_test\n",
        "df_out.head()\n",
        "df_out.to_csv (\"data/predicted.csv\")"
      ],
      "execution_count": null,
      "outputs": []
    }
  ]
}